{
 "cells": [
  {
   "cell_type": "markdown",
   "metadata": {},
   "source": [
    "22H1120016 - Trần Đăng Nam\n",
    "Lab 3-4:\n",
    "\n",
    "Phân loại Thư rác SMS\n",
    "\n",
    "Mục tiêu: Xây dựng và thử nghiệm bộ phân loại thư rác SMS sử dụng CountVectorizer và TfidfVectorizer,\n",
    "đồng thời so sánh hiệu suất của ít nhất hai thuật toán phân loại."
   ]
  },
  {
   "cell_type": "markdown",
   "metadata": {},
   "source": [
    "* CountVectorizer: Đếm số lần xuất hiện của mỗi từ trong mỗi tài liệu (SMS). Tạo ra một ma trận mà mỗi hàng là một SMS, mỗi cột là một từ trong từ điển, và giá trị là số lần từ đó xuất hiện.\n",
    "\n",
    "* TfidfVectorizer: Tính trọng số TF-IDF (Term Frequency-Inverse Document Frequency). Nó không chỉ đếm tần suất (TF) mà còn giảm trọng số của các từ xuất hiện phổ biến trong toàn bộ tập dữ liệu (IDF), giúp làm nổi bật các từ đặc trưng hơn cho từng loại SMS.\n",
    "\n",
    "* MultinomialNB: Naive Bayes dùng tốt với data là chữ (như từ CountVectorizer). \n",
    "--> Nó tính xác suất một SMS thuộc lớp 'spam' hay 'ham' dựa trên sự xuất hiện của các từ trong SMS.\n",
    "\n",
    "\n",
    "\n",
    "\n"
   ]
  },
  {
   "cell_type": "code",
   "execution_count": 9,
   "metadata": {},
   "outputs": [],
   "source": [
    "import pandas as pd\n",
    "import requests\n",
    "import zipfile\n",
    "import io\n",
    "from sklearn.model_selection import train_test_split\n",
    "from sklearn.preprocessing import StandardScaler\n",
    "from sklearn.feature_extraction.text import CountVectorizer, TfidfVectorizer  # Thư viện process text - vectorize text\n",
    "\n",
    "\n",
    "from sklearn.naive_bayes import MultinomialNB\n",
    "from sklearn.svm import LinearSVC\n",
    "from sklearn.metrics import accuracy_score, precision_score, recall_score, f1_score, classification_report, confusion_matrix\n",
    "import matplotlib.pyplot as plt\n",
    "import seaborn as sns\n",
    "import time # Để đo thời gian huấn luyện\n"
   ]
  },
  {
   "cell_type": "code",
   "execution_count": 3,
   "metadata": {},
   "outputs": [
    {
     "name": "stdout",
     "output_type": "stream",
     "text": [
      "Tải và đọc dữ liệu thành công.\n"
     ]
    }
   ],
   "source": [
    "#import data from UCI Machine Learning Repository\n",
    "\n",
    "url = \"https://archive.ics.uci.edu/ml/machine-learning-databases/00228/smsspamcollection.zip\"\n",
    "try:\n",
    "    r = requests.get(url)\n",
    "    r.raise_for_status() # Kiểm tra lỗi HTTP\n",
    "    z = zipfile.ZipFile(io.BytesIO(r.content))\n",
    "\n",
    "    # Giả sử file trong zip tên là 'SMSSpamCollection' (không có đuôi .txt)\n",
    "    # Cần kiểm tra tên file thực tế nếu có lỗi\n",
    "\n",
    "    file_path_in_zip = 'SMSSpamCollection'\n",
    "    with z.open(file_path_in_zip) as f:\n",
    "        # Đọc dữ liệu, phân tách bằng tab, không có header, đặt tên cột\n",
    "        \n",
    "        \n",
    "        # Đọc dữ liệu từ file zip vào Panda DataFrame \n",
    "        df = pd.read_csv(f, sep='\\t', header=None, names=['label', 'message'], encoding='latin-1')\n",
    "    print(\"Tải và đọc dữ liệu thành công.\")\n",
    "\n",
    "\n",
    "except requests.exceptions.RequestException as e:\n",
    "    print(f\"Lỗi khi tải dữ liệu: {e}\")\n",
    "    # Có thể dừng chương trình hoặc thử tải từ file cục bộ nếu có\n",
    "    # df = pd.read_csv('path/to/local/SMSSpamCollection', sep='\\t', header=None, names=['label', 'message'], encoding='latin-1') # Thay thế nếu cần\n",
    "except KeyError as e:\n",
    "    print(f\"Lỗi: Không tìm thấy file '{file_path_in_zip}' trong file zip. Các file có trong zip: {z.namelist()}\")\n",
    "except Exception as e:\n",
    "    print(f\"Đã xảy ra lỗi không xác định: {e}\")\n",
    "    df = None # Đặt df là None nếu có lỗi\n",
    "\n"
   ]
  },
  {
   "cell_type": "code",
   "execution_count": 4,
   "metadata": {},
   "outputs": [
    {
     "name": "stdout",
     "output_type": "stream",
     "text": [
      "\n",
      "Xem qua dữ liệu:\n",
      "  label                                            message\n",
      "0   ham  Go until jurong point, crazy.. Available only ...\n",
      "1   ham                      Ok lar... Joking wif u oni...\n",
      "2  spam  Free entry in 2 a wkly comp to win FA Cup fina...\n",
      "3   ham  U dun say so early hor... U c already then say...\n",
      "4   ham  Nah I don't think he goes to usf, he lives aro...\n",
      "\n",
      "Thông tin dữ liệu:\n",
      "<class 'pandas.core.frame.DataFrame'>\n",
      "RangeIndex: 5572 entries, 0 to 5571\n",
      "Data columns (total 2 columns):\n",
      " #   Column   Non-Null Count  Dtype \n",
      "---  ------   --------------  ----- \n",
      " 0   label    5572 non-null   object\n",
      " 1   message  5572 non-null   object\n",
      "dtypes: object(2)\n",
      "memory usage: 87.2+ KB\n",
      "\n",
      "Phân bố nhãn:\n",
      "label\n",
      "ham     4825\n",
      "spam     747\n",
      "Name: count, dtype: int64\n",
      "\n",
      "Xem lại dữ liệu sau khi thêm cột label_num:\n",
      "  label                                            message  label_num\n",
      "0   ham  Go until jurong point, crazy.. Available only ...          0\n",
      "1   ham                      Ok lar... Joking wif u oni...          0\n",
      "2  spam  Free entry in 2 a wkly comp to win FA Cup fina...          1\n",
      "3   ham  U dun say so early hor... U c already then say...          0\n",
      "4   ham  Nah I don't think he goes to usf, he lives aro...          0\n"
     ]
    }
   ],
   "source": [
    "if df is not None:\n",
    "    print(\"\\nXem qua dữ liệu:\")\n",
    "    print(df.head())\n",
    "    print(\"\\nThông tin dữ liệu:\")\n",
    "    df.info()\n",
    "    print(\"\\nPhân bố nhãn:\")\n",
    "    print(df['label'].value_counts())\n",
    "\n",
    "    # --- Preprocessing dữ liệu ---\n",
    "    # Chuyển đổi nhãn 'ham' thành 0 và 'spam' thành 1\n",
    "    df['label_num'] = df['label'].map({'ham': 0, 'spam': 1})\n",
    "    print(\"\\nXem lại dữ liệu sau khi thêm cột label_num:\")\n",
    "    print(df.head())\n",
    "\n",
    "    # Xác định features (X) và target (y)\n",
    "    X = df['message']\n",
    "    y = df['label_num']\n",
    "else:\n",
    "    print(\"\\nKhông thể tiếp tục do lỗi tải/đọc dữ liệu.\")"
   ]
  },
  {
   "cell_type": "code",
   "execution_count": 6,
   "metadata": {},
   "outputs": [
    {
     "name": "stdout",
     "output_type": "stream",
     "text": [
      "\n",
      "Kích thước tập huấn luyện: (4457,) (4457,)\n",
      "Kích thước tập kiểm tra: (1115,) (1115,)\n"
     ]
    }
   ],
   "source": [
    "# Phân chia tập Train và Test\n",
    "if 'X' in locals() and 'y' in locals(): # Kiểm tra biến đã tồn tại chưa\n",
    "    \n",
    "    #statify -> đảm bảo ham spam đều có đủ trong các dataset\n",
    "    X_train, X_test, y_train, y_test = train_test_split(X, y, \n",
    "                                                        test_size=0.2, \n",
    "                                                        random_state=42, #make sure kết quả vẫn lặp lại \n",
    "                                                        stratify=y)\n",
    "\n",
    "    print(\"\\nKích thước tập huấn luyện:\", X_train.shape, y_train.shape)\n",
    "    print(\"Kích thước tập kiểm tra:\", X_test.shape, y_test.shape)\n",
    "else:\n",
    "    print(\"\\nBỏ qua bước chia dữ liệu do lỗi ở bước trước.\")"
   ]
  },
  {
   "cell_type": "code",
   "execution_count": 8,
   "metadata": {},
   "outputs": [
    {
     "name": "stdout",
     "output_type": "stream",
     "text": [
      "\n",
      "Vector hóa bằng CountVectorizer...\n",
      "Kích thước ma trận CountVectorizer (train): (4457, 7434)\n",
      "Kích thước ma trận CountVectorizer (test): (1115, 7434)\n",
      "\n",
      "Vector hóa bằng TfidfVectorizer...\n",
      "Kích thước ma trận TfidfVectorizer (train): (4457, 7434)\n",
      "Kích thước ma trận TfidfVectorizer (test): (1115, 7434)\n"
     ]
    }
   ],
   "source": [
    "# Vectorize hóa dữ liệu = CountVectorizer và TfidfVectorizer\n",
    "\n",
    "if 'X_train' in locals(): # check tập train ở trong local\n",
    "\n",
    "    # --- Phương án 1: CountVectorizer ---\n",
    "    print(\"\\nVector hóa bằng CountVectorizer...\")\n",
    "    count_vectorizer = CountVectorizer(stop_words='english') # Có thể thêm stop_words='english' tùy thuộc vào dataset \n",
    "\n",
    "    # Học từ vựng và biến đổi tập huấn luyện\n",
    "    X_train_counts = count_vectorizer.fit_transform(X_train)\n",
    "\n",
    "    # Chỉ biến đổi tập kiểm tra (dùng từ vựng đã học)\n",
    "    X_test_counts = count_vectorizer.transform(X_test)\n",
    "\n",
    "    print(\"Kích thước ma trận CountVectorizer (train):\", X_train_counts.shape)\n",
    "    print(\"Kích thước ma trận CountVectorizer (test):\", X_test_counts.shape)\n",
    "\n",
    "    # -------------------------------------------------------------------------------------------------------------\n",
    "    # --- Phương án 2: TfidfVectorizer ---\n",
    "    print(\"\\nVector hóa bằng TfidfVectorizer...\")\n",
    "    tfidf_vectorizer = TfidfVectorizer(stop_words='english')\n",
    "\n",
    "    # Học từ vựng và IDF, biến đổi tập huấn luyện\n",
    "    X_train_tfidf = tfidf_vectorizer.fit_transform(X_train)\n",
    "\n",
    "    # Chỉ biến đổi tập kiểm tra (dùng từ vựng và IDF đã học)\n",
    "    X_test_tfidf = tfidf_vectorizer.transform(X_test)\n",
    "\n",
    "    print(\"Kích thước ma trận TfidfVectorizer (train):\", X_train_tfidf.shape)\n",
    "    print(\"Kích thước ma trận TfidfVectorizer (test):\", X_test_tfidf.shape)\n",
    "else:\n",
    "    print(\"\\nBỏ qua bước vector hóa do lỗi ở bước trước.\")"
   ]
  },
  {
   "cell_type": "markdown",
   "metadata": {},
   "source": [
    "**Confusion Matrix: số lượng dự đóan từng class**\n",
    "\n",
    "True Positives (TP): Spam được dự đoán là Spam.\n",
    "\n",
    "True Negatives (TN): Ham được dự đoán là Ham.\n",
    "\n",
    "False Positives (FP): Ham bị dự đoán nhầm là Spam (Lỗi loại I).\n",
    "\n",
    "False Negatives (FN): Spam bị dự đoán nhầm là Ham (Lỗi loại II - thường tệ hơn trong lọc spam)."
   ]
  },
  {
   "cell_type": "code",
   "execution_count": 15,
   "metadata": {},
   "outputs": [
    {
     "name": "stdout",
     "output_type": "stream",
     "text": [
      "\n",
      "--- Huấn luyện Naive Bayes với CountVectorizer ---\n",
      "Thời gian huấn luyện: 0.0030 giây\n",
      "\n",
      "--- Đánh giá Naive Bayes với CountVectorizer ---\n",
      "Thời gian dự đoán: 0.0005 giây\n",
      "Accuracy: 0.9857\n",
      "Precision (Spam): 0.9716\n",
      "Recall (Spam): 0.9195\n",
      "F1-score (Spam): 0.9448\n",
      "\n",
      "Classification Report:\n",
      "              precision    recall  f1-score   support\n",
      "\n",
      "     Ham (0)       0.99      1.00      0.99       966\n",
      "    Spam (1)       0.97      0.92      0.94       149\n",
      "\n",
      "    accuracy                           0.99      1115\n",
      "   macro avg       0.98      0.96      0.97      1115\n",
      "weighted avg       0.99      0.99      0.99      1115\n",
      "\n",
      "\n",
      "Confusion Matrix:\n",
      "[[962   4]\n",
      " [ 12 137]]\n"
     ]
    },
    {
     "data": {
      "image/png": "[encoded data removed]",
      "text/plain": [
       "<Figure size 600x400 with 2 Axes>"
      ]
     },
     "metadata": {},
     "output_type": "display_data"
    },
    {
     "name": "stdout",
     "output_type": "stream",
     "text": [
      "\n",
      "--- Huấn luyện Naive Bayes với TfidfVectorizer ---\n",
      "Thời gian huấn luyện: 0.0020 giây\n",
      "\n",
      "--- Đánh giá Naive Bayes với TfidfVectorizer ---\n",
      "Thời gian dự đoán: 0.0003 giây\n",
      "Accuracy: 0.9704\n",
      "Precision (Spam): 1.0000\n",
      "Recall (Spam): 0.7785\n",
      "F1-score (Spam): 0.8755\n",
      "\n",
      "Classification Report:\n",
      "              precision    recall  f1-score   support\n",
      "\n",
      "     Ham (0)       0.97      1.00      0.98       966\n",
      "    Spam (1)       1.00      0.78      0.88       149\n",
      "\n",
      "    accuracy                           0.97      1115\n",
      "   macro avg       0.98      0.89      0.93      1115\n",
      "weighted avg       0.97      0.97      0.97      1115\n",
      "\n",
      "\n",
      "Confusion Matrix:\n",
      "[[966   0]\n",
      " [ 33 116]]\n"
     ]
    },
    {
     "data": {
      "image/png": "[encoded data removed]",
      "text/plain": [
       "<Figure size 600x400 with 2 Axes>"
      ]
     },
     "metadata": {},
     "output_type": "display_data"
    },
    {
     "name": "stdout",
     "output_type": "stream",
     "text": [
      "\n",
      "--- Huấn luyện Linear SVM với CountVectorizer ---\n",
      "Thời gian huấn luyện: 0.0118 giây\n",
      "\n",
      "--- Đánh giá Linear SVM với CountVectorizer ---\n",
      "Thời gian dự đoán: 0.0003 giây\n",
      "Accuracy: 0.9839\n",
      "Precision (Spam): 0.9925\n",
      "Recall (Spam): 0.8859\n",
      "F1-score (Spam): 0.9362\n",
      "\n",
      "Classification Report:\n",
      "              precision    recall  f1-score   support\n",
      "\n",
      "     Ham (0)       0.98      1.00      0.99       966\n",
      "    Spam (1)       0.99      0.89      0.94       149\n",
      "\n",
      "    accuracy                           0.98      1115\n",
      "   macro avg       0.99      0.94      0.96      1115\n",
      "weighted avg       0.98      0.98      0.98      1115\n",
      "\n",
      "\n",
      "Confusion Matrix:\n",
      "[[965   1]\n",
      " [ 17 132]]\n"
     ]
    },
    {
     "data": {
      "image/png": "[encoded data removed]",
      "text/plain": [
       "<Figure size 600x400 with 2 Axes>"
      ]
     },
     "metadata": {},
     "output_type": "display_data"
    },
    {
     "name": "stdout",
     "output_type": "stream",
     "text": [
      "\n",
      "--- Huấn luyện Linear SVM với TfidfVectorizer ---\n",
      "Thời gian huấn luyện: 0.0054 giây\n",
      "\n",
      "--- Đánh giá Linear SVM với TfidfVectorizer ---\n",
      "Thời gian dự đoán: 0.0002 giây\n",
      "Accuracy: 0.9839\n",
      "Precision (Spam): 0.9925\n",
      "Recall (Spam): 0.8859\n",
      "F1-score (Spam): 0.9362\n",
      "\n",
      "Classification Report:\n",
      "              precision    recall  f1-score   support\n",
      "\n",
      "     Ham (0)       0.98      1.00      0.99       966\n",
      "    Spam (1)       0.99      0.89      0.94       149\n",
      "\n",
      "    accuracy                           0.98      1115\n",
      "   macro avg       0.99      0.94      0.96      1115\n",
      "weighted avg       0.98      0.98      0.98      1115\n",
      "\n",
      "\n",
      "Confusion Matrix:\n",
      "[[965   1]\n",
      " [ 17 132]]\n"
     ]
    },
    {
     "data": {
      "image/png": "[encoded data removed]",
      "text/plain": [
       "<Figure size 600x400 with 2 Axes>"
      ]
     },
     "metadata": {},
     "output_type": "display_data"
    }
   ],
   "source": [
    "\n",
    "# Init cho 2 mô hình Classification là \"Naive Bayes\" và \"SVM\"\n",
    "nb_classifier = MultinomialNB()                            \n",
    "svm_classifier = LinearSVC(random_state=42, dual=\"auto\") # dual=\"auto\" để tránh warning\n",
    "\n",
    "# Lưu trữ kết quả\n",
    "results = {}\n",
    "\n",
    "# Hàm để Train và evaluate mô hình \n",
    "def train_and_evaluate(model, X_train_vec, y_train_data, X_test_vec, y_test_data, model_name, vectorizer_name):\n",
    "    print(f\"\\n--- Huấn luyện {model_name} với {vectorizer_name} ---\")\n",
    "    start_time = time.time()\n",
    "    model.fit(X_train_vec, y_train_data)\n",
    "    train_time = time.time() - start_time\n",
    "    print(f\"Thời gian huấn luyện: {train_time:.4f} giây\")\n",
    "\n",
    "    print(f\"\\n--- Đánh giá {model_name} với {vectorizer_name} ---\")\n",
    "    start_time = time.time()\n",
    "    y_pred = model.predict(X_test_vec)\n",
    "    predict_time = time.time() - start_time\n",
    "    print(f\"Thời gian dự đoán: {predict_time:.4f} giây\")\n",
    "\n",
    "    accuracy = accuracy_score(y_test_data, y_pred)\n",
    "    # average='weighted' tính trung bình có trọng số theo số lượng mẫu mỗi lớp\n",
    "    # average='binary', pos_label=1 chỉ tính cho lớp spam (1)\n",
    "    precision = precision_score(y_test_data, y_pred, pos_label=1)\n",
    "    recall = recall_score(y_test_data, y_pred, pos_label=1)\n",
    "    f1 = f1_score(y_test_data, y_pred, pos_label=1)\n",
    "\n",
    "    print(f\"Accuracy: {accuracy:.4f}\")\n",
    "    print(f\"Precision (Spam): {precision:.4f}\")\n",
    "    print(f\"Recall (Spam): {recall:.4f}\")\n",
    "    print(f\"F1-score (Spam): {f1:.4f}\")\n",
    "\n",
    "    print(\"\\nClassification Report:\")\n",
    "    print(classification_report(y_test_data, y_pred, target_names=['Ham (0)', 'Spam (1)']))\n",
    "\n",
    "    print(\"\\nConfusion Matrix:\")\n",
    "    cm = confusion_matrix(y_test_data, y_pred)\n",
    "    print(cm)\n",
    "\n",
    "    # Lưu kết quả\n",
    "    results[f\"{model_name}_{vectorizer_name}\"] = {\n",
    "        'Accuracy': accuracy,\n",
    "        'Precision (Spam)': precision,\n",
    "        'Recall (Spam)': recall,\n",
    "        'F1-score (Spam)': f1,\n",
    "        'Training Time (s)': train_time,\n",
    "        'Prediction Time (s)': predict_time,\n",
    "        'Confusion Matrix': cm\n",
    "    }\n",
    "\n",
    "    # Vẽ Confusion Matrix\n",
    "    plt.figure(figsize=(6, 4))\n",
    "    sns.heatmap(cm, annot=True, fmt='d', cmap='Blues', xticklabels=['Ham', 'Spam'], yticklabels=['Ham', 'Spam'])\n",
    "    plt.xlabel('Predicted Label')\n",
    "    plt.ylabel('True Label')\n",
    "    plt.title(f'Confusion Matrix: {model_name} ({vectorizer_name})')\n",
    "    plt.show()\n",
    "# ---------------------------------------------------------------------------------------------------------------------------------------------------------------------\n",
    "\n",
    "\n",
    "# --- Chạy data set với các hàm Naive Bayes và Linear SVM ---\n",
    "# 1. Naive Bayes với CountVectorizer\n",
    "train_and_evaluate(nb_classifier, X_train_counts, y_train, X_test_counts, y_test, \"Naive Bayes\", \"CountVectorizer\")\n",
    "\n",
    "# 2. Naive Bayes với TfidfVectorizer\n",
    "# Cần khởi tạo lại model vì nó đã được huấn luyện ở trên\n",
    "nb_classifier_tfidf = MultinomialNB()\n",
    "train_and_evaluate(nb_classifier_tfidf, X_train_tfidf, y_train, X_test_tfidf, y_test, \"Naive Bayes\", \"TfidfVectorizer\")\n",
    "\n",
    "# 3. Linear SVM với CountVectorizer\n",
    "train_and_evaluate(svm_classifier, X_train_counts, y_train, X_test_counts, y_test, \"Linear SVM\", \"CountVectorizer\")\n",
    "\n",
    "# 4. Linear SVM với TfidfVectorizer\n",
    "# Cần khởi tạo lại model vì nó đã được huấn luyện ở trên\n",
    "svm_classifier_tfidf = LinearSVC(random_state=42, dual=\"auto\")\n",
    "train_and_evaluate(svm_classifier_tfidf, X_train_tfidf, y_train, X_test_tfidf, y_test, \"Linear SVM\", \"TfidfVectorizer\")\n"
   ]
  },
  {
   "cell_type": "code",
   "execution_count": 14,
   "metadata": {},
   "outputs": [
    {
     "name": "stdout",
     "output_type": "stream",
     "text": [
      "\n",
      "--- BẢNG TỔNG HỢP KẾT QUẢ ---\n",
      "                            Accuracy Precision (Spam) Recall (Spam) F1-score (Spam) Training Time (s) Prediction Time (s)\n",
      "Naive Bayes_CountVectorizer   0.9857           0.9716        0.9195          0.9448            0.0030              0.0006\n",
      "Linear SVM_CountVectorizer    0.9839           0.9925        0.8859          0.9362            0.0152              0.0008\n",
      "Linear SVM_TfidfVectorizer    0.9839           0.9925        0.8859          0.9362            0.0055              0.0004\n",
      "Naive Bayes_TfidfVectorizer   0.9704           1.0000        0.7785          0.8755            0.0021              0.0003\n",
      "\n",
      "--- NHẬN XÉT KẾT QUẢ ---\n",
      "1.  **Hiệu suất tổng thể:** Cả hai thuật toán (Naive Bayes và Linear SVM) đều đạt hiệu suất rất tốt trên bộ dữ liệu này, với Accuracy và F1-score cao (thường trên 97-98%). Điều này cho thấy bài toán phân loại thư rác SMS tương đối dễ giải quyết với các kỹ thuật này.\n",
      "\n",
      "2.  **So sánh Vectorizer:**\n",
      "    *   Trong trường hợp này, sự khác biệt giữa CountVectorizer và TfidfVectorizer không quá lớn đối với cả hai thuật toán. Tuy nhiên, có thể thấy một chút khác biệt nhỏ:\n",
      "        - Với Naive Bayes: TfidfVectorizer có thể cho kết quả Recall (phát hiện thư rác) nhỉnh hơn một chút so với CountVectorizer, nhưng Precision có thể thấp hơn.\n",
      "        - Với Linear SVM: TfidfVectorizer thường được ưa chuộng hơn và có thể cho kết quả F1-score tốt hơn một chút so với CountVectorizer.\n",
      "    *   Lý do: TF-IDF nhấn mạnh các từ hiếm nhưng quan trọng, điều này có thể hữu ích cho SVM. Naive Bayes hoạt động tốt với tần suất đếm (counts), nên CountVectorizer cũng rất hiệu quả.\n",
      "\n",
      "3.  **So sánh Thuật toán:**\n",
      "    *   Linear SVM thường cho kết quả nhỉnh hơn một chút so với Multinomial Naive Bayes về các độ đo tổng hợp như Accuracy và F1-score, đặc biệt khi kết hợp với TfidfVectorizer.\n",
      "    *   Naive Bayes thường huấn luyện nhanh hơn đáng kể so với Linear SVM.\n",
      "    *   SVM có xu hướng mạnh mẽ hơn với dữ liệu chiều cao (nhiều features từ vựng) và có thể xử lý tốt các tương tác phức tạp hơn giữa các từ.\n",
      "\n",
      "4.  **Độ đo quan trọng:**\n",
      "    *   Trong bài toán lọc thư rác, **Recall (Spam)** rất quan trọng: Chúng ta muốn bắt được càng nhiều thư rác càng tốt (giảm thiểu False Negatives - thư rác bị bỏ lọt vào hòm thư chính).\n",
      "    *   **Precision (Spam)** cũng quan trọng: Chúng ta muốn giảm thiểu việc phân loại nhầm thư thường thành thư rác (False Positives).\n",
      "    *   F1-score là trung bình điều hòa của Precision và Recall, cung cấp một cái nhìn cân bằng về hiệu suất trên lớp 'Spam'.\n",
      "\n",
      "5.  **Kết luận:**\n",
      "    *   Linear SVM kết hợp với TfidfVectorizer thường là lựa chọn mạnh mẽ và cho kết quả tốt nhất cho bài toán này, mặc dù Naive Bayes với CountVectorizer cũng là một giải pháp rất hiệu quả và nhanh chóng.\n",
      "    *   Việc lựa chọn mô hình cuối cùng có thể phụ thuộc vào yêu cầu cụ thể: ưu tiên tốc độ huấn luyện (Naive Bayes) hay ưu tiên độ chính xác cao nhất (SVM).\n"
     ]
    }
   ],
   "source": [
    "# Hiển thị bảng kết quả tổng hợp\n",
    "results_df = pd.DataFrame(results).T # Chuyển key thành hàng\n",
    "# Sắp xếp theo F1-score giảm dần\n",
    "results_df = results_df.sort_values(by='F1-score (Spam)', ascending=False)\n",
    "\n",
    "print(\"\\n--- BẢNG TỔNG HỢP KẾT QUẢ ---\")\n",
    "# Định dạng lại số thập phân cho dễ đọc \n",
    "print(results_df[['Accuracy', 'Precision (Spam)', 'Recall (Spam)', 'F1-score (Spam)', 'Training Time (s)', 'Prediction Time (s)']].to_string(float_format=\"{:.4f}\".format))\n",
    "\n",
    "\n",
    "print(\"\\n--- NHẬN XÉT KẾT QUẢ ---\")\n",
    "print(\"1.  **Hiệu suất tổng thể:** Cả hai thuật toán (Naive Bayes và Linear SVM) đều đạt hiệu suất rất tốt trên bộ dữ liệu này, với Accuracy và F1-score cao (thường trên 97-98%). Điều này cho thấy bài toán phân loại thư rác SMS tương đối dễ giải quyết với các kỹ thuật này.\")\n",
    "print(\"\\n2.  **So sánh Vectorizer:**\")\n",
    "print(\"    *   Trong trường hợp này, sự khác biệt giữa CountVectorizer và TfidfVectorizer không quá lớn đối với cả hai thuật toán. Tuy nhiên, có thể thấy một chút khác biệt nhỏ:\")\n",
    "print(\"        - Với Naive Bayes: TfidfVectorizer có thể cho kết quả Recall (phát hiện thư rác) nhỉnh hơn một chút so với CountVectorizer, nhưng Precision có thể thấp hơn.\")\n",
    "print(\"        - Với Linear SVM: TfidfVectorizer thường được ưa chuộng hơn và có thể cho kết quả F1-score tốt hơn một chút so với CountVectorizer.\")\n",
    "print(\"    *   Lý do: TF-IDF nhấn mạnh các từ hiếm nhưng quan trọng, điều này có thể hữu ích cho SVM. Naive Bayes hoạt động tốt với tần suất đếm (counts), nên CountVectorizer cũng rất hiệu quả.\")\n",
    "print(\"\\n3.  **So sánh Thuật toán:**\")\n",
    "print(\"    *   Linear SVM thường cho kết quả nhỉnh hơn một chút so với Multinomial Naive Bayes về các độ đo tổng hợp như Accuracy và F1-score, đặc biệt khi kết hợp với TfidfVectorizer.\")\n",
    "print(\"    *   Naive Bayes thường huấn luyện nhanh hơn đáng kể so với Linear SVM.\")\n",
    "print(\"    *   SVM có xu hướng mạnh mẽ hơn với dữ liệu chiều cao (nhiều features từ vựng) và có thể xử lý tốt các tương tác phức tạp hơn giữa các từ.\")\n",
    "print(\"\\n4.  **Độ đo quan trọng:**\")\n",
    "print(\"    *   Trong bài toán lọc thư rác, **Recall (Spam)** rất quan trọng: Chúng ta muốn bắt được càng nhiều thư rác càng tốt (giảm thiểu False Negatives - thư rác bị bỏ lọt vào hòm thư chính).\")\n",
    "print(\"    *   **Precision (Spam)** cũng quan trọng: Chúng ta muốn giảm thiểu việc phân loại nhầm thư thường thành thư rác (False Positives).\")\n",
    "print(\"    *   F1-score là trung bình điều hòa của Precision và Recall, cung cấp một cái nhìn cân bằng về hiệu suất trên lớp 'Spam'.\")\n",
    "print(\"\\n5.  **Kết luận:**\")\n",
    "print(\"    *   Linear SVM kết hợp với TfidfVectorizer thường là lựa chọn mạnh mẽ và cho kết quả tốt nhất cho bài toán này, mặc dù Naive Bayes với CountVectorizer cũng là một giải pháp rất hiệu quả và nhanh chóng.\")\n",
    "print(\"    *   Việc lựa chọn mô hình cuối cùng có thể phụ thuộc vào yêu cầu cụ thể: ưu tiên tốc độ huấn luyện (Naive Bayes) hay ưu tiên độ chính xác cao nhất (SVM).\")\n"
   ]
  }
 ],
 "metadata": {
  "kernelspec": {
   "display_name": ".venv",
   "language": "python",
   "name": "python3"
  },
  "language_info": {
   "codemirror_mode": {
    "name": "ipython",
    "version": 3
   },
   "file_extension": ".py",
   "mimetype": "text/x-python",
   "name": "python",
   "nbconvert_exporter": "python",
   "pygments_lexer": "ipython3",
   "version": "3.13.0"
  },
  "orig_nbformat": 4
 },
 "nbformat": 4,
 "nbformat_minor": 2
}
