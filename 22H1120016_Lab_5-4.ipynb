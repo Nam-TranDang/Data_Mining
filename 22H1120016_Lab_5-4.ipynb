{
 "cells": [
  {
   "cell_type": "markdown",
   "id": "8dee7b40",
   "metadata": {},
   "source": [
    "### 22H1120016 - Trần Đăng Nam \n",
    "\n",
    "Sử dụng dataset https://archive.ics.uci.edu/ml/datasets/FMA%3A+A+Dataset+For+Music+Analysis\n",
    "\n",
    "(hoặc download ở đây: https://github.com/mdeff/fma)\n",
    "\n",
    "đề xuất giải pháp và cài đặt ứng dụng gom cụm các bản nhạc Mp3.\n",
    "\n",
    "\n",
    "Giải pháp: do  dữ liệu  khá lớn ->  nên dùng  K-Means, vì mô  hình này xử  lý  nhanh  hơn  cho dữ liệu lớn.\n"
   ]
  },
  {
   "cell_type": "code",
   "execution_count": null,
   "id": "35e3feea",
   "metadata": {},
   "outputs": [],
   "source": [
    "import numpy as np\n",
    "import pandas as pd\n",
    "import matplotlib.pyplot as plt\n",
    "from sklearn.preprocessing import StandardScaler\n",
    "from sklearn.cluster import KMeans"
   ]
  },
  {
   "cell_type": "code",
   "execution_count": null,
   "id": "adbd3d78",
   "metadata": {},
   "outputs": [],
   "source": [
    "# Bước 1: Đọc dữ liệu từ file CSV\n",
    "# Giả sử bạn đã tải và giải nén fma_metadata.zip\n",
    "tracks = pd.read_csv('tracks.csv', header=[0, 1], index_col=0)  # Metadata\n",
    "features = pd.read_csv('features.csv', header=[0, 1, 2], index_col=0)  # Đặc trưng âm thanh\n",
    "\n",
    "# Lọc dữ liệu thuộc tập \"small\" (fma_small)\n",
    "small_tracks = tracks[tracks['set', 'subset'] <= 'small']\n",
    "small_features = features.loc[small_tracks.index]\n"
   ]
  },
  {
   "cell_type": "code",
   "execution_count": null,
   "id": "c1e6f89d",
   "metadata": {},
   "outputs": [],
   "source": [
    "# Bước 2: Làm sạch và chuẩn bị dữ liệu\n",
    "# Loại bỏ các hàng có giá trị NaN\n",
    "small_features = small_features.dropna()\n",
    "small_tracks = small_tracks.loc[small_features.index]\n",
    "\n",
    "# Lấy tất cả đặc trưng âm thanh (gộp các cột từ các nhóm như chroma, mfcc, spectral, v.v.)\n",
    "X = small_features.values\n",
    "\n",
    "# Chuẩn hóa dữ liệu\n",
    "scaler = StandardScaler()\n",
    "X_scaled = scaler.fit_transform(X)\n"
   ]
  },
  {
   "cell_type": "code",
   "execution_count": null,
   "id": "de163014",
   "metadata": {},
   "outputs": [],
   "source": [
    "\n",
    "# Bước 3: Gom cụm với K-Means\n",
    "# Chọn k = 8 (vì fma_small có 8 thể loại cân bằng, ta thử gom thành 8 cụm)\n",
    "k = 8\n",
    "kmeans = KMeans(n_clusters=k, random_state=42)\n",
    "labels = kmeans.fit_predict(X_scaled)\n",
    "\n",
    "# Bước 4: Tạo DataFrame chứa kết quả gom cụm\n",
    "clustering_results = pd.DataFrame({\n",
    "    'Track_ID': small_tracks.index,\n",
    "    'Title': small_tracks['track', 'title'],\n",
    "    'Artist': small_tracks['artist', 'name'],\n",
    "    'Cluster': labels\n",
    "})\n",
    "\n"
   ]
  },
  {
   "cell_type": "code",
   "execution_count": null,
   "id": "d59b850d",
   "metadata": {},
   "outputs": [],
   "source": [
    "# Lưu kết quả vào file CSV\n",
    "clustering_results.to_csv('fma_clustering_results.csv', index=False)\n",
    "print(\"Kết quả gom cụm đã được lưu vào file 'fma_clustering_results.csv'.\")\n",
    "\n",
    "# Bước 5: In một số thông tin để kiểm tra\n",
    "print(\"\\nSố lượng bản nhạc trong mỗi cụm:\")\n",
    "print(clustering_results['Cluster'].value_counts())\n",
    "\n",
    "# In một số ví dụ từ mỗi cụm\n",
    "print(\"\\nVí dụ một số bản nhạc trong mỗi cụm:\")\n",
    "for cluster in range(k):\n",
    "    print(f\"\\nCụm {cluster}:\")\n",
    "    cluster_tracks = clustering_results[clustering_results['Cluster'] == cluster].head(3)\n",
    "    for _, row in cluster_tracks.iterrows():\n",
    "        print(f\"Track ID: {row['Track_ID']}, Title: {row['Title']}, Artist: {row['Artist']}\")\n",
    "\n"
   ]
  },
  {
   "cell_type": "code",
   "execution_count": null,
   "id": "e23d3726",
   "metadata": {},
   "outputs": [],
   "source": [
    "# (Tùy chọn) Vẽ biểu đồ phân bố cụm\n",
    "plt.figure(figsize=(8, 6))\n",
    "plt.hist(labels, bins=range(k+1), align='left', rwidth=0.8)\n",
    "plt.title('Phân bố số lượng bản nhạc trong mỗi cụm')\n",
    "plt.xlabel('Cụm')\n",
    "plt.ylabel('Số lượng bản nhạc')\n",
    "plt.xticks(range(k))\n",
    "plt.grid(True)\n",
    "plt.savefig('fma_cluster_distribution.png')"
   ]
  }
 ],
 "metadata": {
  "kernelspec": {
   "display_name": ".venv",
   "language": "python",
   "name": "python3"
  },
  "language_info": {
   "codemirror_mode": {
    "name": "ipython",
    "version": 3
   },
   "file_extension": ".py",
   "mimetype": "text/x-python",
   "name": "python",
   "nbconvert_exporter": "python",
   "pygments_lexer": "ipython3",
   "version": "3.13.0"
  }
 },
 "nbformat": 4,
 "nbformat_minor": 5
}
