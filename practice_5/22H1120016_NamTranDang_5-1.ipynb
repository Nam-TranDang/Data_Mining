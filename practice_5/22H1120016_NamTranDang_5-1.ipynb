{
 "cells": [
  {
   "cell_type": "markdown",
   "metadata": {},
   "source": [
    "22H1120016 Trần Đăng Nam\n",
    "\n",
    "Khai thác mẫu phổ biến và kết hợp \n",
    "\n",
    "Lab 5.1\n",
    "\n",
    "Cài đặt giải thuật Apriori trên Python, và chạy thử nghiệm với dữ liệu Market-Basket ở slide số 3 trong buổi lý thuyết, (chọn minSup và minConf phù hợp).\n",
    "\n",
    "Yêu cầu xuất ra các tập phổ biến và luật kết hợp và tham số support/confidence của chúng."
   ]
  },
  {
   "cell_type": "code",
   "execution_count": 3,
   "metadata": {},
   "outputs": [],
   "source": [
    "from itertools import combinations\n",
    "import pandas as pd\n",
    "\n",
    "# Bước 1: Bảng transaction \n",
    "transactions = [\n",
    "    ['Bread', 'Milk'],\n",
    "    ['Bread', 'Diaper', 'Beer', 'Eggs'],\n",
    "    ['Milk', 'Diaper', 'Beer', 'Coke'],\n",
    "    ['Bread', 'Milk', 'Diaper', 'Beer'],\n",
    "    ['Bread', 'Milk', 'Diaper', 'Coke']\n",
    "]\n",
    "\n",
    "# Tham số của Mẫu phổ biến \n",
    "minSup = 0.4  # Minimum support (40%)\n",
    "minConf = 0.8  # Minimum confidence (80%)\n",
    "total_transactions = len(transactions)"
   ]
  },
  {
   "cell_type": "code",
   "execution_count": 4,
   "metadata": {},
   "outputs": [],
   "source": [
    "# Bước 2: lấy các item \"unique\" \n",
    "items = set()\n",
    "for transaction in transactions:\n",
    "    for item in transaction:\n",
    "        items.add(item)\n",
    "items = sorted(items)"
   ]
  },
  {
   "cell_type": "code",
   "execution_count": 5,
   "metadata": {},
   "outputs": [],
   "source": [
    "# Bước 3: Tạo mẫu phổ biến \"frequency\" - Apriori\n",
    "def get_support(itemset, transactions):\n",
    "    count = sum(1 for transaction in transactions if set(itemset).issubset(transaction))\n",
    "    return count / total_transactions\n",
    "\n",
    "# Initialize frequent itemsets\n",
    "frequent_itemsets = {}\n",
    "k = 1\n",
    "candidates = [[item] for item in items]\n",
    "\n",
    "while candidates:\n",
    "    # Tính \"support\" của từng candidate\n",
    "    frequent = []\n",
    "    for candidate in candidates:\n",
    "        support = get_support(candidate, transactions)\n",
    "        if support >= minSup:\n",
    "            frequent.append((tuple(candidate), support))\n",
    "    \n",
    "    if not frequent:\n",
    "        break\n",
    "    \n",
    "    frequent_itemsets[k] = frequent\n",
    "    k += 1\n",
    "    \n",
    "    # Tạo candidates cho vòng lặp kế (để check) \n",
    "    candidates = []\n",
    "    for i in range(len(frequent)):\n",
    "        for j in range(i + 1, len(frequent)):\n",
    "            itemset1 = list(frequent[i][0])\n",
    "            itemset2 = list(frequent[j][0])\n",
    "            if itemset1[:-1] == itemset2[:-1]:\n",
    "                new_candidate = sorted(list(set(itemset1 + itemset2)))\n",
    "                if len(new_candidate) == k:\n",
    "                    candidates.append(new_candidate)\n",
    "\n",
    "# Bước 4: Tạo quy luật kết hợp\n",
    "association_rules = []\n",
    "for k, itemsets in frequent_itemsets.items():\n",
    "    if k < 2:\n",
    "        continue\n",
    "    for itemset, support in itemsets:\n",
    "        itemset = set(itemset)\n",
    "        for r in range(1, len(itemset)):\n",
    "            for antecedent in combinations(itemset, r):\n",
    "                antecedent = set(antecedent)\n",
    "                consequent = itemset - antecedent\n",
    "                if not consequent:\n",
    "                    continue\n",
    "                conf = get_support(itemset, transactions) / get_support(antecedent, transactions)\n",
    "                if conf >= minConf:\n",
    "                    association_rules.append((antecedent, consequent, support, conf))\n",
    "\n"
   ]
  },
  {
   "cell_type": "code",
   "execution_count": 6,
   "metadata": {},
   "outputs": [
    {
     "name": "stdout",
     "output_type": "stream",
     "text": [
      "Frequent Itemsets:\n",
      "Itemset: {'Beer'}, Support: 0.60\n",
      "Itemset: {'Bread'}, Support: 0.80\n",
      "Itemset: {'Coke'}, Support: 0.40\n",
      "Itemset: {'Diaper'}, Support: 0.80\n",
      "Itemset: {'Milk'}, Support: 0.80\n",
      "Itemset: {'Beer', 'Bread'}, Support: 0.40\n",
      "Itemset: {'Beer', 'Diaper'}, Support: 0.60\n",
      "Itemset: {'Beer', 'Milk'}, Support: 0.40\n",
      "Itemset: {'Bread', 'Diaper'}, Support: 0.60\n",
      "Itemset: {'Milk', 'Bread'}, Support: 0.60\n",
      "Itemset: {'Coke', 'Diaper'}, Support: 0.40\n",
      "Itemset: {'Coke', 'Milk'}, Support: 0.40\n",
      "Itemset: {'Milk', 'Diaper'}, Support: 0.60\n",
      "Itemset: {'Beer', 'Bread', 'Diaper'}, Support: 0.40\n",
      "Itemset: {'Beer', 'Diaper', 'Milk'}, Support: 0.40\n",
      "Itemset: {'Milk', 'Bread', 'Diaper'}, Support: 0.40\n",
      "Itemset: {'Coke', 'Diaper', 'Milk'}, Support: 0.40\n",
      "\n",
      "Association Rules:\n",
      "Rule: {'Beer'} -> {'Diaper'}, Support: 0.60, Confidence: 1.00\n",
      "Rule: {'Coke'} -> {'Diaper'}, Support: 0.40, Confidence: 1.00\n",
      "Rule: {'Coke'} -> {'Milk'}, Support: 0.40, Confidence: 1.00\n",
      "Rule: {'Beer', 'Bread'} -> {'Diaper'}, Support: 0.40, Confidence: 1.00\n",
      "Rule: {'Beer', 'Milk'} -> {'Diaper'}, Support: 0.40, Confidence: 1.00\n",
      "Rule: {'Coke'} -> {'Milk', 'Diaper'}, Support: 0.40, Confidence: 1.00\n",
      "Rule: {'Coke', 'Diaper'} -> {'Milk'}, Support: 0.40, Confidence: 1.00\n",
      "Rule: {'Coke', 'Milk'} -> {'Diaper'}, Support: 0.40, Confidence: 1.00\n"
     ]
    }
   ],
   "source": [
    "# Bước 5 hiển thị quy luật\n",
    "print(\"Frequent Itemsets:\")\n",
    "for k, itemsets in frequent_itemsets.items():\n",
    "    for itemset, support in itemsets:\n",
    "        print(f\"Itemset: {set(itemset)}, Support: {support:.2f}\")\n",
    "\n",
    "print(\"\\nAssociation Rules:\")\n",
    "for antecedent, consequent, support, conf in association_rules:\n",
    "    print(f\"Rule: {set(antecedent)} -> {set(consequent)}, Support: {support:.2f}, Confidence: {conf:.2f}\")"
   ]
  }
 ],
 "metadata": {
  "kernelspec": {
   "display_name": ".venv",
   "language": "python",
   "name": "python3"
  },
  "language_info": {
   "codemirror_mode": {
    "name": "ipython",
    "version": 3
   },
   "file_extension": ".py",
   "mimetype": "text/x-python",
   "name": "python",
   "nbconvert_exporter": "python",
   "pygments_lexer": "ipython3",
   "version": "3.13.0"
  },
  "orig_nbformat": 4
 },
 "nbformat": 4,
 "nbformat_minor": 2
}
