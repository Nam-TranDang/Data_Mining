{
 "cells": [
  {
   "cell_type": "code",
   "execution_count": 4,
   "metadata": {},
   "outputs": [
    {
     "data": {
      "text/plain": [
       "\" \\nMSSV:  22H1120016\\nHọ tên: Trần Đăng Nam\\n\\nDataset tagged acording being ham (legitimate) or spam\\nhttps://archive.ics.uci.edu/dataset/228/sms+spam+collection\\n\\n1. Đếm xem có bao nhiêu dòng và bao nhiêu dòng xuất hiện spam và bao nhiêu dòng xuất hiện ham trong file trên\\n2. Đếm xem có bao nhiêu từ (các từ ngăn cách bởi khoảng trắng, và không phải chữ số)\\n3. Đếm xem có bao nhiêu từ 'you' (không phân biệt hoa thường)\\n4. Đếm xem có bao nhiêu từ khác nhau (không phân biết hoa thường)\\n5. Liệt kê 10 từ khóa xuất hiện nhiều nhất trong file dữ liệu (không phân biết hoa thường)\\n\\n\""
      ]
     },
     "execution_count": 4,
     "metadata": {},
     "output_type": "execute_result"
    }
   ],
   "source": [
    "''' \n",
    "MSSV:  22H1120016\n",
    "Họ tên: Trần Đăng Nam\n",
    "\n",
    "Dataset tagged acording being ham (legitimate) or spam\n",
    "https://archive.ics.uci.edu/dataset/228/sms+spam+collection\n",
    "\n",
    "1. Đếm xem có bao nhiêu dòng và bao nhiêu dòng xuất hiện spam và bao nhiêu dòng xuất hiện ham trong file trên\n",
    "2. Đếm xem có bao nhiêu từ (các từ ngăn cách bởi khoảng trắng, và không phải chữ số)\n",
    "3. Đếm xem có bao nhiêu từ 'you' (không phân biệt hoa thường)\n",
    "4. Đếm xem có bao nhiêu từ khác nhau (không phân biết hoa thường)\n",
    "5. Liệt kê 10 từ khóa xuất hiện nhiều nhất trong file dữ liệu (không phân biết hoa thường)\n",
    "\n",
    "''' \n"
   ]
  },
  {
   "cell_type": "code",
   "execution_count": 3,
   "metadata": {},
   "outputs": [
    {
     "name": "stdout",
     "output_type": "stream",
     "text": [
      "Total rows: 5574\n",
      "Rows consist \"spam\": 747\n",
      "Rows consist \"ham\": 4827\n"
     ]
    }
   ],
   "source": [
    "#1. Count rows in the dataset  + count \"ham\" + count \"spam\"\n",
    "#since dataset contains non-letter characters, -> encode utf-8\n",
    "with open('SMSSpamCollection', 'r', encoding='utf-8') as f:\n",
    "    lines = f.readlines() #this line will read entire file at once -> each line is stored in a \"list string\"\n",
    "\n",
    "total_lines = len(lines) #implicit list (array)\n",
    "\n",
    "# More Pythonic way to count lines\n",
    "spam_count = sum(1 for line in lines if line.startswith('spam')) \n",
    "ham_count = sum(1 for line in lines if line.startswith('ham'))\n",
    "\n",
    "print(f'Total rows: {total_lines}')\n",
    "print(f'Rows consist \"spam\": {spam_count}')\n",
    "print(f'Rows consist \"ham\": {ham_count}')\n",
    "\n",
    "\n",
    "\n",
    "# More friendly code :D --> use when work large file (require less RAM compare with f.readlines())\n",
    "\n",
    "# spam_count = ham_count = total_lines = 0\n",
    "# with open('SMSSpamCollection', 'r', encoding='utf-8') as f:\n",
    "#     for line in f:  # Reads one line at a time\n",
    "#         total_lines += 1\n",
    "#         if line.startswith('spam'):\n",
    "#             spam_count += 1\n",
    "#         elif line.startswith('ham'):\n",
    "#             ham_count += 1\n",
    "\n",
    "# print(f'Total lines: {total_lines}')\n",
    "# print(f'Spam count: {spam_count}')\n",
    "# print(f'Ham count: {ham_count}')"
   ]
  },
  {
   "cell_type": "code",
   "execution_count": 12,
   "metadata": {},
   "outputs": [
    {
     "name": "stdout",
     "output_type": "stream",
     "text": [
      "Total of words, include word contain tags(not contain numbers, and other symbols): 91295\n"
     ]
    }
   ],
   "source": [
    "#2. Đếm xem có bao nhiêu từ (các từ ngăn cách bởi khoảng trắng, và không phải chữ số)\n",
    "# lib: re = \"regular expression\" use for \"Text processing\" - searching, matching, and manipulating text patterns efficiently.\n",
    "import re\n",
    "word_count = 0\n",
    "\n",
    "with open('SMSSpamCollection', 'r', encoding='utf-8') as f:\n",
    "    lines = f.readlines()\n",
    "\n",
    "for line in lines:\n",
    "\n",
    "    # input (<pattern>, string) -> purpose: iterate the string\n",
    "    # then find a word, base on pattern -> return list of words \n",
    "    # explain pattern: \\b: word boundary, \\d: digit, \\w: word character, +: one or more\n",
    "    # r'': raw string, not escape character \n",
    "    # [a-zA-Z]: all alphabet \n",
    "\n",
    "    words = re.findall(r\"\\b[a-zA-Z]+\\b\", line)\n",
    "    word_count += len(words) # len of words list \n",
    "\n",
    "\n",
    "print(f'Total of words, include word contain tags(not contain numbers, and other symbols): {word_count}')\n"
   ]
  },
  {
   "cell_type": "code",
   "execution_count": 17,
   "metadata": {},
   "outputs": [
    {
     "name": "stdout",
     "output_type": "stream",
     "text": [
      "Total words \"you\": 2249\n"
     ]
    }
   ],
   "source": [
    "#3. Đếm xem có bao nhiêu từ 'you' (không phân biệt hoa thường)\n",
    "\n",
    "import re\n",
    "word_count = 0\n",
    "\n",
    "with open('SMSSpamCollection', 'r', encoding='utf-8') as f:\n",
    "    lines = f.readlines()\n",
    "\n",
    "you_count = 0\n",
    "\n",
    "for line in lines:\n",
    "    # use finndall() to find all occurrences of 'you' in the line - input and pattern\n",
    "    #pattern take whole you\" as a word\n",
    "    you_count += len(re.findall(r'\\byou\\b', line, re.IGNORECASE))\n",
    "\n",
    "print(f'Total words \"you\": {you_count}')"
   ]
  },
  {
   "cell_type": "code",
   "execution_count": 19,
   "metadata": {},
   "outputs": [
    {
     "name": "stdout",
     "output_type": "stream",
     "text": [
      "Total distictive words: 7612\n"
     ]
    }
   ],
   "source": [
    "# 4. Đếm xem có bao nhiêu từ khác nhau (không phân biết hoa thường)\n",
    "with open('SMSSpamCollection', 'r', encoding='utf-8') as f:\n",
    "    lines = f.readlines()\n",
    "#set - auto store unique value\n",
    "unique = set()\n",
    "\n",
    "for line in lines:\n",
    "    # same as count word in 1 line & lower case -> prevent the case sensitive duplicate\n",
    "    words = re.findall(r'\\b[a-zA-Z]+\\b', line.lower())\n",
    "    unique.update(words)\n",
    "\n",
    "unique_word_count = len(unique)\n",
    "print(f'Total distictive words: {unique_word_count}')"
   ]
  },
  {
   "cell_type": "code",
   "execution_count": 21,
   "metadata": {},
   "outputs": [
    {
     "name": "stdout",
     "output_type": "stream",
     "text": [
      "Top 10 most appear word:\n",
      "HAM: 4829 Times\n",
      "I: 3021 Times\n",
      "TO: 2253 Times\n",
      "YOU: 2249 Times\n",
      "A: 1450 Times\n",
      "THE: 1339 Times\n",
      "U: 1207 Times\n",
      "AND: 980 Times\n",
      "IN: 903 Times\n",
      "IS: 897 Times\n"
     ]
    }
   ],
   "source": [
    "# 5. Liệt kê 10 từ khóa xuất hiện nhiều nhất trong file dữ liệu (không phân biết hoa thường)\n",
    "from collections import Counter\n",
    "# counter is same like dictionary - but it can count number of each key (key is word: number of time appear)\n",
    "\n",
    "with open('SMSSpamCollection', 'r', encoding='utf-8') as f:\n",
    "    lines = f.readlines()\n",
    "\n",
    "word_counter = Counter()\n",
    "\n",
    "for line in lines:\n",
    "    # same as count words - 3rd exercise\n",
    "    words = re.findall(r'\\b[a-zA-Z]+\\b', line.upper())\n",
    "    word_counter.update(words) #update the word - as a key, and the number will be automatically increase\n",
    "\n",
    "# most common - built in get top most\n",
    "most_common_words = word_counter.most_common(10)\n",
    "\n",
    "print('Top 10 most appear word:')\n",
    "for word, count in most_common_words:\n",
    "    print(f'{word}: {count} Times')"
   ]
  }
 ],
 "metadata": {
  "kernelspec": {
   "display_name": ".venv",
   "language": "python",
   "name": "python3"
  },
  "language_info": {
   "codemirror_mode": {
    "name": "ipython",
    "version": 3
   },
   "file_extension": ".py",
   "mimetype": "text/x-python",
   "name": "python",
   "nbconvert_exporter": "python",
   "pygments_lexer": "ipython3",
   "version": "3.13.0"
  },
  "orig_nbformat": 4
 },
 "nbformat": 4,
 "nbformat_minor": 2
}
