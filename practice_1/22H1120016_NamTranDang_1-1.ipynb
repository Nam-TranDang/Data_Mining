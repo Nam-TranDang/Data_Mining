{
 "cells": [
  {
   "cell_type": "code",
   "execution_count": 1,
   "metadata": {},
   "outputs": [
    {
     "name": "stdout",
     "output_type": "stream",
     "text": [
      "22H1120016 - Trần Đăng Nam - Chapter 1 - Exercise\n"
     ]
    }
   ],
   "source": [
    "# Create venv on vscode -> venv/Scripts/activate -> pip install jupyter \n",
    "# Export HTML -> then ctrl P -> convert to PDF\n",
    "''' \n",
    "MSSV:  22H1120016\n",
    "Họ tên: Trần Đăng Nam\n",
    "'''\n",
    "print(\"22H1120016 - Trần Đăng Nam - Chapter 1 - Exercise\")"
   ]
  },
  {
   "cell_type": "code",
   "execution_count": 2,
   "metadata": {},
   "outputs": [
    {
     "name": "stdout",
     "output_type": "stream",
     "text": [
      "Hello Nam\n"
     ]
    }
   ],
   "source": [
    "#1. input output\n",
    "name = input(\"What is your name?\")\n",
    "print(\"Hello\", name)"
   ]
  },
  {
   "cell_type": "code",
   "execution_count": 3,
   "metadata": {},
   "outputs": [
    {
     "name": "stdout",
     "output_type": "stream",
     "text": [
      "8 9.85 Nam True 9.85\n"
     ]
    }
   ],
   "source": [
    "#2. Primitive datatype\n",
    "int_var = 8\n",
    "float_var = 9.85\n",
    "str_var = \"Nam\"\n",
    "bool_var = True\n",
    "sum_result = (float_var - int_var) + int_var \n",
    "print(int_var, float_var, str_var, bool_var, sum_result)"
   ]
  },
  {
   "cell_type": "code",
   "execution_count": 4,
   "metadata": {},
   "outputs": [
    {
     "name": "stdout",
     "output_type": "stream",
     "text": [
      "9\n",
      "{True, 'Vietnam', 5, 8, 9, 88, (1, 2, 3)}\n",
      "{True, 98, 99, 5, 7, 8, 9, 88}\n",
      "{True}\n",
      "{8, 9, 5, 7}\n",
      "{'name': 'Nam', 'base': 'Ho Chi Minh City', 'age': 20}\n",
      "{'name': 'Nam', 'base': 'Ho Chi Minh City', 'age': 21}\n",
      "name: Nam\n",
      "base: Ho Chi Minh City\n"
     ]
    }
   ],
   "source": [
    "#3. List, Tuple, Set, Dictionary\n",
    "# List - mutable list\n",
    "my_list = [5, 7, 8, 9]\n",
    "my_list.append(88)\n",
    "print(my_list[-2])\n",
    "\n",
    "# Tuple -  immutable record\n",
    "my_tuple = (10, 20, 30)\n",
    "\n",
    "# Set features: - unordered, unchangeable*, unindexed, Heterogeneous, and no duplicates\n",
    "my_set = {5, 9, 8, 9, True, \"Vietnam\"}\n",
    "my_set.add(88)\n",
    "my_set.add((1,2,3)) # elements must be immutable e.g: tuple can be stored -> if list or dic -> error (since it is mutable)\n",
    "print(my_set)\n",
    "\n",
    "# Set operations - join and union \n",
    "set_a = {5, 7, 8, 9, True}\n",
    "set_b = {99, 88, 98, True}\n",
    "print(set_a | set_b)  # Union\n",
    "print(set_a & set_b)  # Intersection\n",
    "print(set_a - set_b)  # Difference \n",
    "\n",
    "\n",
    "# Dictionary - unordered collection of key-value pairs\n",
    "# Dictionary ~ hash table -> store only key-value pairs & immutable keys\n",
    "\n",
    "my_dict = {\"name\": \"Nam\", \"base\": \"Ho Chi Minh City\"}\n",
    "my_dict[\"age\"] = 20  # add key value  pair\n",
    "\n",
    "print(my_dict)\n",
    "my_dict[\"age\"] = 21 #update \n",
    "print(my_dict) #print output to the \"set\" \n",
    "del my_dict[\"age\"] # delete\n",
    "\n",
    "for key, value in my_dict.items():\n",
    "    print(f\"{key}: {value}\")\n"
   ]
  },
  {
   "cell_type": "code",
   "execution_count": 5,
   "metadata": {},
   "outputs": [
    {
     "name": "stdout",
     "output_type": "stream",
     "text": [
      "x > 8\n",
      "Loop 1 times\n",
      "Loop 2 times\n",
      "Loop 3 times\n",
      "Loop 4 times\n",
      "Loop 5 times\n",
      "y: 3\n",
      "y: 2\n",
      "y: 1\n"
     ]
    }
   ],
   "source": [
    "#4. Conditional Statements and Loops\n",
    "x = 9\n",
    "if x > 8:\n",
    "    print(\"x > 8\")\n",
    "elif x == 8:\n",
    "    print(\"x = 8\")\n",
    "else:\n",
    "    print(\"x < 8\")\n",
    "\n",
    "for i in range(5):\n",
    "    print(f\"Loop {i+1} times\")\n",
    "\n",
    "#condition loop\n",
    "y = 3\n",
    "while y > 0:\n",
    "    print(f\"y: {y}\")\n",
    "    y -= 1"
   ]
  },
  {
   "cell_type": "code",
   "execution_count": 26,
   "metadata": {},
   "outputs": [
    {
     "name": "stdout",
     "output_type": "stream",
     "text": [
      "Xin chào, Nam!\n"
     ]
    }
   ],
   "source": [
    "# 5. Function\n",
    "def greet(name):\n",
    "    return f\"Xin chào, {name}!\"\n",
    "print(greet(\"Nam\"))"
   ]
  },
  {
   "cell_type": "code",
   "execution_count": 29,
   "metadata": {},
   "outputs": [
    {
     "name": "stdout",
     "output_type": "stream",
     "text": [
      "Content: Hello I'm Nam!\n",
      "More contents are appended!\n",
      "\n"
     ]
    }
   ],
   "source": [
    "#6. 파일 읽기 - read file - read, write file automatically close file\n",
    "with open(\"read.txt\", \"w\") as file:\n",
    "    file.write(\"Hello I'm Nam!\\n\")\n",
    "\n",
    "with open(\"read.txt\", \"a\") as file:\n",
    "    file.write(\"More contents are appended!\\n\")\n",
    "\n",
    "with open(\"read.txt\", \"r\") as file:\n",
    "    content = file.read()\n",
    "    print(\"Content:\", content)"
   ]
  }
 ],
 "metadata": {
  "kernelspec": {
   "display_name": ".venv",
   "language": "python",
   "name": "python3"
  },
  "language_info": {
   "codemirror_mode": {
    "name": "ipython",
    "version": 3
   },
   "file_extension": ".py",
   "mimetype": "text/x-python",
   "name": "python",
   "nbconvert_exporter": "python",
   "pygments_lexer": "ipython3",
   "version": "3.13.0"
  },
  "orig_nbformat": 4
 },
 "nbformat": 4,
 "nbformat_minor": 2
}
